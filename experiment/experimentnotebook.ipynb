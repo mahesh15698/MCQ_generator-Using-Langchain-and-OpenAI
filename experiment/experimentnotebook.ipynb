{
 "cells": [
  {
   "cell_type": "code",
   "execution_count": 16,
   "metadata": {},
   "outputs": [],
   "source": [
    "import os\n",
    "import json\n",
    "import pandas as pd \n",
    "import traceback"
   ]
  },
  {
   "cell_type": "code",
   "execution_count": 17,
   "metadata": {},
   "outputs": [],
   "source": [
    "from langchain.chat_models import ChatOpenAI"
   ]
  },
  {
   "cell_type": "code",
   "execution_count": 18,
   "metadata": {},
   "outputs": [
    {
     "data": {
      "text/plain": [
       "True"
      ]
     },
     "execution_count": 18,
     "metadata": {},
     "output_type": "execute_result"
    }
   ],
   "source": [
    "from dotenv import load_dotenv\n",
    "\n",
    "load_dotenv() "
   ]
  },
  {
   "cell_type": "code",
   "execution_count": 19,
   "metadata": {},
   "outputs": [],
   "source": [
    "KEY=os.getenv(\"OPENAI_API_KEY\")"
   ]
  },
  {
   "cell_type": "code",
   "execution_count": 22,
   "metadata": {},
   "outputs": [],
   "source": [
    "llm= ChatOpenAI(openai_api_key=KEY,model_name= \"gpt-3.5-turbo\",temperature=0.3)"
   ]
  },
  {
   "cell_type": "code",
   "execution_count": 21,
   "metadata": {},
   "outputs": [],
   "source": [
    "from langchain.llms import OpenAI\n",
    "from langchain.prompts import PromptTemplate\n",
    "from langchain.chains import LLMChain\n",
    "from langchain.chains import SequentialChain\n",
    "from langchain.callbacks import get_openai_callback\n",
    "import PyPDF2"
   ]
  },
  {
   "cell_type": "code",
   "execution_count": 14,
   "metadata": {},
   "outputs": [],
   "source": [
    "RESPONSE_JSON = {\n",
    "    \"1\": {\n",
    "        \"mcq\": \"multiple choice question\",\n",
    "        \"options\": {\n",
    "            \"a\": \"choice here\",\n",
    "            \"b\": \"choice here\",\n",
    "            \"c\": \"choice here\",\n",
    "            \"d\": \"choice here\",\n",
    "        },\n",
    "        \"correct\": \"correct answer\",\n",
    "    },\n",
    "    \"2\": {\n",
    "        \"mcq\": \"multiple choice question\",\n",
    "        \"options\": {\n",
    "            \"a\": \"choice here\",\n",
    "            \"b\": \"choice here\",\n",
    "            \"c\": \"choice here\",\n",
    "            \"d\": \"choice here\",\n",
    "        },\n",
    "        \"correct\": \"correct answer\",\n",
    "    },\n",
    "    \"3\": {\n",
    "        \"mcq\": \"multiple choice question\",\n",
    "        \"options\": {\n",
    "            \"a\": \"choice here\",\n",
    "            \"b\": \"choice here\",\n",
    "            \"c\": \"choice here\",\n",
    "            \"d\": \"choice here\",\n",
    "        },\n",
    "        \"correct\": \"correct answer\",\n",
    "    },\n",
    "}"
   ]
  },
  {
   "cell_type": "code",
   "execution_count": 15,
   "metadata": {},
   "outputs": [],
   "source": [
    "TEMPLATE=\"\"\"\n",
    "Text:{text}\n",
    "You are an expert MCQ maker. Given the above text, it is your job to \\\n",
    "create a quiz  of {number} multiple choice questions for {subject} students in {tone} tone. \n",
    "Make sure the questions are not repeated and check all the questions to be conforming the text as well.\n",
    "Make sure to format your response like  RESPONSE_JSON below  and use it as a guide. \\\n",
    "Ensure to make {number} MCQs\n",
    "### RESPONSE_JSON\n",
    "{response_json}\n",
    "\n",
    "\"\"\""
   ]
  },
  {
   "cell_type": "code",
   "execution_count": 16,
   "metadata": {},
   "outputs": [],
   "source": [
    "quiz_generation_prompt = PromptTemplate(\n",
    "    input_variables=[\"text\", \"number\", \"subject\", \"tone\", \"response_json\"],\n",
    "    template=TEMPLATE\n",
    "    )"
   ]
  },
  {
   "cell_type": "code",
   "execution_count": 17,
   "metadata": {},
   "outputs": [],
   "source": [
    "quiz_chain=LLMChain(llm=llm, prompt=quiz_generation_prompt, output_key=\"quiz\", verbose=True)"
   ]
  },
  {
   "cell_type": "code",
   "execution_count": 18,
   "metadata": {},
   "outputs": [],
   "source": [
    "TEMPLATE2=\"\"\"\n",
    "You are an expert english grammarian and writer. Given a Multiple Choice Quiz for {subject} students.\\\n",
    "You need to evaluate the complexity of the question and give a complete analysis of the quiz. Only use at max 50 words for complexity analysis. \n",
    "if the quiz is not at per with the cognitive and analytical abilities of the students,\\\n",
    "update the quiz questions which needs to be changed and change the tone such that it perfectly fits the student abilities\n",
    "Quiz_MCQs:\n",
    "{quiz}\n",
    "\n",
    "Check from an expert English Writer of the above quiz:\n",
    "\"\"\""
   ]
  },
  {
   "cell_type": "code",
   "execution_count": 19,
   "metadata": {},
   "outputs": [],
   "source": [
    "quiz_evaluation_prompt=PromptTemplate(input_variables=[\"subject\", \"quiz\"], template=TEMPLATE)"
   ]
  },
  {
   "cell_type": "code",
   "execution_count": 20,
   "metadata": {},
   "outputs": [],
   "source": [
    "review_chain=LLMChain(llm=llm, prompt=quiz_evaluation_prompt, output_key=\"review\", verbose=True)"
   ]
  },
  {
   "cell_type": "code",
   "execution_count": 21,
   "metadata": {},
   "outputs": [],
   "source": [
    "generate_evaluate_chain=SequentialChain(chains=[quiz_chain, review_chain], input_variables=[\"text\", \"number\", \"subject\", \"tone\", \"response_json\"],\n",
    "                                        output_variables=[\"quiz\", \"review\"], verbose=True,)"
   ]
  },
  {
   "cell_type": "code",
   "execution_count": 22,
   "metadata": {},
   "outputs": [],
   "source": [
    "file_path= r\"D:\\PACE_UNI\\pace_uni\\data.txt\""
   ]
  },
  {
   "cell_type": "code",
   "execution_count": 23,
   "metadata": {},
   "outputs": [
    {
     "data": {
      "text/plain": [
       "'D:\\\\PACE_UNI\\\\pace_uni\\\\data.txt'"
      ]
     },
     "execution_count": 23,
     "metadata": {},
     "output_type": "execute_result"
    }
   ],
   "source": [
    "file_path"
   ]
  },
  {
   "cell_type": "code",
   "execution_count": 24,
   "metadata": {},
   "outputs": [],
   "source": [
    "with open(file_path,'r') as text:\n",
    "    TEXT = text.read()"
   ]
  },
  {
   "cell_type": "code",
   "execution_count": 27,
   "metadata": {},
   "outputs": [
    {
     "name": "stdout",
     "output_type": "stream",
     "text": [
      "Machine Learning (ML) represents a transformative paradigm within the broader field of artificial intelligence (AI), revolutionizing the way computers learn and make decisions. At its core, ML is an interdisciplinary domain that merges computer science, statistics, and domain-specific expertise to enable systems to learn patterns from data and make predictions or decisions without explicit programming.\n",
      "\n",
      "The fundamental concept behind ML is the extraction of meaningful insights from data through the identification of patterns, correlations, and trends. This process involves training algorithms on vast datasets, allowing the system to discern patterns and relationships, and subsequently apply this acquired knowledge to new, unseen data.\n",
      "\n",
      "ML algorithms can be broadly categorized into three types: supervised learning, unsupervised learning, and reinforcement learning. In supervised learning, models are trained on labeled datasets where the algorithm learns to map input data to corresponding output labels. Unsupervised learning, on the other hand, deals with unlabeled data, aiming to identify inherent patterns and relationships within the dataset. Reinforcement learning involves an agent learning to make decisions by interacting with an environment, receiving feedback in the form of rewards or penalties.\n",
      "\n",
      "One of the most powerful aspects of ML is its ability to adapt and improve over time. This adaptability is attributed to the iterative nature of the learning process, wherein models continuously refine their predictions as they encounter new data. As a result, ML systems have the potential to enhance performance, accuracy, and efficiency, making them valuable tools across various industries.\n",
      "\n",
      "Applications of ML span a wide range of domains, including healthcare, finance, marketing, autonomous vehicles, natural language processing, and image recognition. In healthcare, ML is utilized for disease diagnosis, personalized treatment plans, and drug discovery. Financial institutions leverage ML for fraud detection, risk assessment, and algorithmic trading. Marketing teams employ ML algorithms for customer segmentation, targeted advertising, and recommendation systems.\n",
      "\n",
      "While ML has achieved remarkable success, it is not without challenges. Ethical considerations, bias in algorithms, data privacy concerns, and the interpretability of complex models are critical issues that researchers and practitioners grapple with. Striking a balance between innovation and ethical considerations is paramount to ensuring the responsible and equitable development of ML technologies.\n",
      "\n",
      "The future of ML holds exciting possibilities. As technology advances, incorporating techniques like deep learning and neural networks, the capabilities of ML systems continue to evolve. The integration of ML with other emerging technologies, such as the Internet of Things (IoT) and edge computing, further expands its potential impact.\n",
      "\n",
      "In conclusion, Machine Learning stands at the forefront of technological innovation, offering unprecedented opportunities to transform industries, drive efficiency, and solve complex problems. With ongoing research, ethical considerations, and collaborative efforts, the field of ML is poised to shape the future of artificial intelligence and revolutionize the way we interact with and harness the power of data.\n"
     ]
    }
   ],
   "source": [
    "print(TEXT)"
   ]
  },
  {
   "cell_type": "code",
   "execution_count": 30,
   "metadata": {},
   "outputs": [],
   "source": [
    "NUMBER=5 \n",
    "SUBJECT=\"Machine Learning\"\n",
    "TONE=\"simple\""
   ]
  },
  {
   "cell_type": "code",
   "execution_count": 28,
   "metadata": {},
   "outputs": [
    {
     "data": {
      "text/plain": [
       "'{\"1\": {\"mcq\": \"multiple choice question\", \"options\": {\"a\": \"choice here\", \"b\": \"choice here\", \"c\": \"choice here\", \"d\": \"choice here\"}, \"correct\": \"correct answer\"}, \"2\": {\"mcq\": \"multiple choice question\", \"options\": {\"a\": \"choice here\", \"b\": \"choice here\", \"c\": \"choice here\", \"d\": \"choice here\"}, \"correct\": \"correct answer\"}, \"3\": {\"mcq\": \"multiple choice question\", \"options\": {\"a\": \"choice here\", \"b\": \"choice here\", \"c\": \"choice here\", \"d\": \"choice here\"}, \"correct\": \"correct answer\"}}'"
      ]
     },
     "execution_count": 28,
     "metadata": {},
     "output_type": "execute_result"
    }
   ],
   "source": [
    "# Serialize the Python dictionary into a JSON-formatted string\n",
    "json.dumps(RESPONSE_JSON)"
   ]
  },
  {
   "cell_type": "code",
   "execution_count": 31,
   "metadata": {},
   "outputs": [
    {
     "name": "stderr",
     "output_type": "stream",
     "text": [
      "c:\\Users\\Admin\\MCQ_generator-Using-Langchain-and-OpenAI\\llmenv\\lib\\site-packages\\langchain_core\\_api\\deprecation.py:117: LangChainDeprecationWarning: The function `__call__` was deprecated in LangChain 0.1.0 and will be removed in 0.2.0. Use invoke instead.\n",
      "  warn_deprecated(\n"
     ]
    },
    {
     "name": "stdout",
     "output_type": "stream",
     "text": [
      "\n",
      "\n",
      "\u001b[1m> Entering new SequentialChain chain...\u001b[0m\n",
      "\n",
      "\n",
      "\u001b[1m> Entering new LLMChain chain...\u001b[0m\n",
      "Prompt after formatting:\n",
      "\u001b[32;1m\u001b[1;3m\n",
      "Text:Machine Learning (ML) represents a transformative paradigm within the broader field of artificial intelligence (AI), revolutionizing the way computers learn and make decisions. At its core, ML is an interdisciplinary domain that merges computer science, statistics, and domain-specific expertise to enable systems to learn patterns from data and make predictions or decisions without explicit programming.\n",
      "\n",
      "The fundamental concept behind ML is the extraction of meaningful insights from data through the identification of patterns, correlations, and trends. This process involves training algorithms on vast datasets, allowing the system to discern patterns and relationships, and subsequently apply this acquired knowledge to new, unseen data.\n",
      "\n",
      "ML algorithms can be broadly categorized into three types: supervised learning, unsupervised learning, and reinforcement learning. In supervised learning, models are trained on labeled datasets where the algorithm learns to map input data to corresponding output labels. Unsupervised learning, on the other hand, deals with unlabeled data, aiming to identify inherent patterns and relationships within the dataset. Reinforcement learning involves an agent learning to make decisions by interacting with an environment, receiving feedback in the form of rewards or penalties.\n",
      "\n",
      "One of the most powerful aspects of ML is its ability to adapt and improve over time. This adaptability is attributed to the iterative nature of the learning process, wherein models continuously refine their predictions as they encounter new data. As a result, ML systems have the potential to enhance performance, accuracy, and efficiency, making them valuable tools across various industries.\n",
      "\n",
      "Applications of ML span a wide range of domains, including healthcare, finance, marketing, autonomous vehicles, natural language processing, and image recognition. In healthcare, ML is utilized for disease diagnosis, personalized treatment plans, and drug discovery. Financial institutions leverage ML for fraud detection, risk assessment, and algorithmic trading. Marketing teams employ ML algorithms for customer segmentation, targeted advertising, and recommendation systems.\n",
      "\n",
      "While ML has achieved remarkable success, it is not without challenges. Ethical considerations, bias in algorithms, data privacy concerns, and the interpretability of complex models are critical issues that researchers and practitioners grapple with. Striking a balance between innovation and ethical considerations is paramount to ensuring the responsible and equitable development of ML technologies.\n",
      "\n",
      "The future of ML holds exciting possibilities. As technology advances, incorporating techniques like deep learning and neural networks, the capabilities of ML systems continue to evolve. The integration of ML with other emerging technologies, such as the Internet of Things (IoT) and edge computing, further expands its potential impact.\n",
      "\n",
      "In conclusion, Machine Learning stands at the forefront of technological innovation, offering unprecedented opportunities to transform industries, drive efficiency, and solve complex problems. With ongoing research, ethical considerations, and collaborative efforts, the field of ML is poised to shape the future of artificial intelligence and revolutionize the way we interact with and harness the power of data.\n",
      "You are an expert MCQ maker. Given the above text, it is your job to create a quiz  of 5 multiple choice questions for Machine Learning students in simple tone. \n",
      "Make sure the questions are not repeated and check all the questions to be conforming the text as well.\n",
      "Make sure to format your response like  RESPONSE_JSON below  and use it as a guide. Ensure to make 5 MCQs\n",
      "### RESPONSE_JSON\n",
      "{\"1\": {\"mcq\": \"multiple choice question\", \"options\": {\"a\": \"choice here\", \"b\": \"choice here\", \"c\": \"choice here\", \"d\": \"choice here\"}, \"correct\": \"correct answer\"}, \"2\": {\"mcq\": \"multiple choice question\", \"options\": {\"a\": \"choice here\", \"b\": \"choice here\", \"c\": \"choice here\", \"d\": \"choice here\"}, \"correct\": \"correct answer\"}, \"3\": {\"mcq\": \"multiple choice question\", \"options\": {\"a\": \"choice here\", \"b\": \"choice here\", \"c\": \"choice here\", \"d\": \"choice here\"}, \"correct\": \"correct answer\"}}\n",
      "\n",
      "\u001b[0m\n",
      "\n",
      "\u001b[1m> Finished chain.\u001b[0m\n",
      "\n",
      "\n",
      "\u001b[1m> Entering new LLMChain chain...\u001b[0m\n",
      "Prompt after formatting:\n",
      "\u001b[32;1m\u001b[1;3m\n",
      "Text:Machine Learning (ML) represents a transformative paradigm within the broader field of artificial intelligence (AI), revolutionizing the way computers learn and make decisions. At its core, ML is an interdisciplinary domain that merges computer science, statistics, and domain-specific expertise to enable systems to learn patterns from data and make predictions or decisions without explicit programming.\n",
      "\n",
      "The fundamental concept behind ML is the extraction of meaningful insights from data through the identification of patterns, correlations, and trends. This process involves training algorithms on vast datasets, allowing the system to discern patterns and relationships, and subsequently apply this acquired knowledge to new, unseen data.\n",
      "\n",
      "ML algorithms can be broadly categorized into three types: supervised learning, unsupervised learning, and reinforcement learning. In supervised learning, models are trained on labeled datasets where the algorithm learns to map input data to corresponding output labels. Unsupervised learning, on the other hand, deals with unlabeled data, aiming to identify inherent patterns and relationships within the dataset. Reinforcement learning involves an agent learning to make decisions by interacting with an environment, receiving feedback in the form of rewards or penalties.\n",
      "\n",
      "One of the most powerful aspects of ML is its ability to adapt and improve over time. This adaptability is attributed to the iterative nature of the learning process, wherein models continuously refine their predictions as they encounter new data. As a result, ML systems have the potential to enhance performance, accuracy, and efficiency, making them valuable tools across various industries.\n",
      "\n",
      "Applications of ML span a wide range of domains, including healthcare, finance, marketing, autonomous vehicles, natural language processing, and image recognition. In healthcare, ML is utilized for disease diagnosis, personalized treatment plans, and drug discovery. Financial institutions leverage ML for fraud detection, risk assessment, and algorithmic trading. Marketing teams employ ML algorithms for customer segmentation, targeted advertising, and recommendation systems.\n",
      "\n",
      "While ML has achieved remarkable success, it is not without challenges. Ethical considerations, bias in algorithms, data privacy concerns, and the interpretability of complex models are critical issues that researchers and practitioners grapple with. Striking a balance between innovation and ethical considerations is paramount to ensuring the responsible and equitable development of ML technologies.\n",
      "\n",
      "The future of ML holds exciting possibilities. As technology advances, incorporating techniques like deep learning and neural networks, the capabilities of ML systems continue to evolve. The integration of ML with other emerging technologies, such as the Internet of Things (IoT) and edge computing, further expands its potential impact.\n",
      "\n",
      "In conclusion, Machine Learning stands at the forefront of technological innovation, offering unprecedented opportunities to transform industries, drive efficiency, and solve complex problems. With ongoing research, ethical considerations, and collaborative efforts, the field of ML is poised to shape the future of artificial intelligence and revolutionize the way we interact with and harness the power of data.\n",
      "You are an expert MCQ maker. Given the above text, it is your job to create a quiz  of 5 multiple choice questions for Machine Learning students in simple tone. \n",
      "Make sure the questions are not repeated and check all the questions to be conforming the text as well.\n",
      "Make sure to format your response like  RESPONSE_JSON below  and use it as a guide. Ensure to make 5 MCQs\n",
      "### RESPONSE_JSON\n",
      "{\"1\": {\"mcq\": \"multiple choice question\", \"options\": {\"a\": \"choice here\", \"b\": \"choice here\", \"c\": \"choice here\", \"d\": \"choice here\"}, \"correct\": \"correct answer\"}, \"2\": {\"mcq\": \"multiple choice question\", \"options\": {\"a\": \"choice here\", \"b\": \"choice here\", \"c\": \"choice here\", \"d\": \"choice here\"}, \"correct\": \"correct answer\"}, \"3\": {\"mcq\": \"multiple choice question\", \"options\": {\"a\": \"choice here\", \"b\": \"choice here\", \"c\": \"choice here\", \"d\": \"choice here\"}, \"correct\": \"correct answer\"}}\n",
      "\n",
      "\u001b[0m\n",
      "\n",
      "\u001b[1m> Finished chain.\u001b[0m\n",
      "\n",
      "\u001b[1m> Finished chain.\u001b[0m\n"
     ]
    }
   ],
   "source": [
    "#https://python.langchain.com/docs/modules/model_io/llms/token_usage_tracking\n",
    "\n",
    "#How to setup Token Usage Tracking in LangChain\n",
    "with get_openai_callback() as cb:\n",
    "    response=generate_evaluate_chain(\n",
    "        {\n",
    "            \"text\": TEXT,\n",
    "            \"number\": NUMBER,\n",
    "            \"subject\":SUBJECT,\n",
    "            \"tone\": TONE,\n",
    "            \"response_json\": json.dumps(RESPONSE_JSON)\n",
    "        }\n",
    "        )"
   ]
  },
  {
   "cell_type": "code",
   "execution_count": 33,
   "metadata": {},
   "outputs": [
    {
     "name": "stdout",
     "output_type": "stream",
     "text": [
      "Total Tokens:2294\n",
      "Prompt Tokens:1616\n",
      "Completion Tokens:678\n",
      "Total Cost(in doller):0.0037800000000000004\n"
     ]
    }
   ],
   "source": [
    "print(f\"Total Tokens:{cb.total_tokens}\")\n",
    "print(f\"Prompt Tokens:{cb.prompt_tokens}\")\n",
    "print(f\"Completion Tokens:{cb.completion_tokens}\")\n",
    "print(f\"Total Cost(in doller):{cb.total_cost}\")"
   ]
  },
  {
   "cell_type": "code",
   "execution_count": 53,
   "metadata": {},
   "outputs": [
    {
     "data": {
      "text/plain": [
       "{'text': 'Machine Learning (ML) represents a transformative paradigm within the broader field of artificial intelligence (AI), revolutionizing the way computers learn and make decisions. At its core, ML is an interdisciplinary domain that merges computer science, statistics, and domain-specific expertise to enable systems to learn patterns from data and make predictions or decisions without explicit programming.\\n\\nThe fundamental concept behind ML is the extraction of meaningful insights from data through the identification of patterns, correlations, and trends. This process involves training algorithms on vast datasets, allowing the system to discern patterns and relationships, and subsequently apply this acquired knowledge to new, unseen data.\\n\\nML algorithms can be broadly categorized into three types: supervised learning, unsupervised learning, and reinforcement learning. In supervised learning, models are trained on labeled datasets where the algorithm learns to map input data to corresponding output labels. Unsupervised learning, on the other hand, deals with unlabeled data, aiming to identify inherent patterns and relationships within the dataset. Reinforcement learning involves an agent learning to make decisions by interacting with an environment, receiving feedback in the form of rewards or penalties.\\n\\nOne of the most powerful aspects of ML is its ability to adapt and improve over time. This adaptability is attributed to the iterative nature of the learning process, wherein models continuously refine their predictions as they encounter new data. As a result, ML systems have the potential to enhance performance, accuracy, and efficiency, making them valuable tools across various industries.\\n\\nApplications of ML span a wide range of domains, including healthcare, finance, marketing, autonomous vehicles, natural language processing, and image recognition. In healthcare, ML is utilized for disease diagnosis, personalized treatment plans, and drug discovery. Financial institutions leverage ML for fraud detection, risk assessment, and algorithmic trading. Marketing teams employ ML algorithms for customer segmentation, targeted advertising, and recommendation systems.\\n\\nWhile ML has achieved remarkable success, it is not without challenges. Ethical considerations, bias in algorithms, data privacy concerns, and the interpretability of complex models are critical issues that researchers and practitioners grapple with. Striking a balance between innovation and ethical considerations is paramount to ensuring the responsible and equitable development of ML technologies.\\n\\nThe future of ML holds exciting possibilities. As technology advances, incorporating techniques like deep learning and neural networks, the capabilities of ML systems continue to evolve. The integration of ML with other emerging technologies, such as the Internet of Things (IoT) and edge computing, further expands its potential impact.\\n\\nIn conclusion, Machine Learning stands at the forefront of technological innovation, offering unprecedented opportunities to transform industries, drive efficiency, and solve complex problems. With ongoing research, ethical considerations, and collaborative efforts, the field of ML is poised to shape the future of artificial intelligence and revolutionize the way we interact with and harness the power of data.',\n",
       " 'number': 5,\n",
       " 'subject': 'Machine Learning',\n",
       " 'tone': 'simple',\n",
       " 'response_json': '{\"1\": {\"mcq\": \"multiple choice question\", \"options\": {\"a\": \"choice here\", \"b\": \"choice here\", \"c\": \"choice here\", \"d\": \"choice here\"}, \"correct\": \"correct answer\"}, \"2\": {\"mcq\": \"multiple choice question\", \"options\": {\"a\": \"choice here\", \"b\": \"choice here\", \"c\": \"choice here\", \"d\": \"choice here\"}, \"correct\": \"correct answer\"}, \"3\": {\"mcq\": \"multiple choice question\", \"options\": {\"a\": \"choice here\", \"b\": \"choice here\", \"c\": \"choice here\", \"d\": \"choice here\"}, \"correct\": \"correct answer\"}}',\n",
       " 'quiz': '{\"1\": {\"mcq\": \"What is the fundamental concept behind Machine Learning?\", \"options\": {\"a\": \"Extraction of meaningful insights from data through the identification of patterns, correlations, and trends\", \"b\": \"Explicit programming to make predictions or decisions\", \"c\": \"Training algorithms on vast datasets to improve efficiency\", \"d\": \"Interacting with an environment to receive feedback\"}, \"correct\": \"a\"}, \\n\"2\": {\"mcq\": \"Which type of Machine Learning deals with unlabeled data?\", \"options\": {\"a\": \"Supervised learning\", \"b\": \"Unsupervised learning\", \"c\": \"Reinforcement learning\", \"d\": \"Deep learning\"}, \"correct\": \"b\"}, \\n\"3\": {\"mcq\": \"What is one of the applications of Machine Learning in healthcare?\", \"options\": {\"a\": \"Customer segmentation\", \"b\": \"Algorithmic trading\", \"c\": \"Disease diagnosis\", \"d\": \"Risk assessment\"}, \"correct\": \"c\"}, \\n\"4\": {\"mcq\": \"What are some challenges in Machine Learning?\", \"options\": {\"a\": \"Ethical considerations and bias in algorithms\", \"b\": \"Data privacy concerns and interpretability of complex models\", \"c\": \"All of the above\", \"d\": \"None of the above\"}, \"correct\": \"c\"}, \\n\"5\": {\"mcq\": \"What is the future potential impact of Machine Learning?\", \"options\": {\"a\": \"Transform industries and solve complex problems\", \"b\": \"Drive efficiency and enhance performance\", \"c\": \"Shape the future of artificial intelligence\", \"d\": \"All of the above\"}, \"correct\": \"d\"}}',\n",
       " 'review': '{\"1\": {\"mcq\": \"What is the fundamental concept behind Machine Learning?\", \"options\": {\"a\": \"Training algorithms on vast datasets\", \"b\": \"Extracting meaningful insights from data\", \"c\": \"Applying acquired knowledge to new data\", \"d\": \"Identifying patterns, correlations, and trends\"}, \"correct\": \"d\"}, \\n\"2\": {\"mcq\": \"Which type of Machine Learning deals with unlabeled data?\", \"options\": {\"a\": \"Supervised learning\", \"b\": \"Unsupervised learning\", \"c\": \"Reinforcement learning\", \"d\": \"Deep learning\"}, \"correct\": \"b\"}, \\n\"3\": {\"mcq\": \"What is one of the challenges in Machine Learning?\", \"options\": {\"a\": \"Ethical considerations\", \"b\": \"Data privacy concerns\", \"c\": \"Interpretability of complex models\", \"d\": \"All of the above\"}, \"correct\": \"d\"}, \\n\"4\": {\"mcq\": \"In which domain is Machine Learning used for disease diagnosis and personalized treatment plans?\", \"options\": {\"a\": \"Finance\", \"b\": \"Marketing\", \"c\": \"Healthcare\", \"d\": \"Autonomous vehicles\"}, \"correct\": \"c\"}, \\n\"5\": {\"mcq\": \"What is the potential impact of integrating Machine Learning with the Internet of Things (IoT) and edge computing?\", \"options\": {\"a\": \"Enhanced performance and efficiency\", \"b\": \"Improved accuracy\", \"c\": \"Expanded capabilities\", \"d\": \"All of the above\"}, \"correct\": \"d\"}}'}"
      ]
     },
     "execution_count": 53,
     "metadata": {},
     "output_type": "execute_result"
    }
   ],
   "source": [
    "response"
   ]
  },
  {
   "cell_type": "code",
   "execution_count": 54,
   "metadata": {},
   "outputs": [],
   "source": [
    "quiz = response.get(\"quiz\")"
   ]
  },
  {
   "cell_type": "code",
   "execution_count": 58,
   "metadata": {},
   "outputs": [],
   "source": [
    "quiz= json.loads(quiz)"
   ]
  },
  {
   "cell_type": "code",
   "execution_count": 60,
   "metadata": {},
   "outputs": [],
   "source": [
    "quiz_table_data = []\n",
    "for key, value in quiz.items():\n",
    "    mcq = value[\"mcq\"]\n",
    "    options = \" | \".join(\n",
    "        [\n",
    "            f\"{option}: {option_value}\"\n",
    "            for option, option_value in value[\"options\"].items()\n",
    "            ]\n",
    "        )\n",
    "    correct = value[\"correct\"]\n",
    "    quiz_table_data.append({\"MCQ\": mcq, \"Choices\": options, \"Correct\": correct})"
   ]
  },
  {
   "cell_type": "code",
   "execution_count": 62,
   "metadata": {},
   "outputs": [],
   "source": [
    "quiz=pd.DataFrame(quiz_table_data)"
   ]
  },
  {
   "cell_type": "code",
   "execution_count": 64,
   "metadata": {},
   "outputs": [],
   "source": [
    "quiz.to_csv(\"machinelearning.csv\",index=False)"
   ]
  },
  {
   "cell_type": "code",
   "execution_count": 6,
   "metadata": {},
   "outputs": [
    {
     "ename": "SyntaxError",
     "evalue": "invalid syntax (3679989900.py, line 5)",
     "output_type": "error",
     "traceback": [
      "\u001b[1;36m  Cell \u001b[1;32mIn[6], line 5\u001b[1;36m\u001b[0m\n\u001b[1;33m    LOG_FILE = f\"{datetime.now().strftime(\"%m-%d-%Y %H:%M:%S\")}.log\"\u001b[0m\n\u001b[1;37m                                              ^\u001b[0m\n\u001b[1;31mSyntaxError\u001b[0m\u001b[1;31m:\u001b[0m invalid syntax\n"
     ]
    }
   ],
   "source": [
    "import logging\n",
    "import os \n",
    "import datetime\n",
    "\n",
    "LOG_FILE = f\"{datetime.now().strftime(\"%m-%d-%Y %H:%M:%S\")}.log\""
   ]
  },
  {
   "cell_type": "code",
   "execution_count": 4,
   "metadata": {},
   "outputs": [],
   "source": [
    "from datetime import datetime"
   ]
  },
  {
   "cell_type": "code",
   "execution_count": 5,
   "metadata": {},
   "outputs": [
    {
     "data": {
      "text/plain": [
       "'02-05-2024 19:43:36'"
      ]
     },
     "execution_count": 5,
     "metadata": {},
     "output_type": "execute_result"
    }
   ],
   "source": [
    "datetime.now().strftime(\"%m-%d-%Y %H:%M:%S\")"
   ]
  },
  {
   "cell_type": "code",
   "execution_count": 2,
   "metadata": {},
   "outputs": [],
   "source": [
    "file_path= r\"C:\\Users\\Admin\\MCQ_generator_Using_Langchain_and_OpenAI\\Response.json\""
   ]
  },
  {
   "cell_type": "code",
   "execution_count": 3,
   "metadata": {},
   "outputs": [
    {
     "data": {
      "text/plain": [
       "'C:\\\\Users\\\\Admin\\\\MCQ_generator_Using_Langchain_and_OpenAI\\\\Response.json'"
      ]
     },
     "execution_count": 3,
     "metadata": {},
     "output_type": "execute_result"
    }
   ],
   "source": [
    "file_path"
   ]
  },
  {
   "cell_type": "code",
   "execution_count": 14,
   "metadata": {},
   "outputs": [],
   "source": [
    "import json\n",
    "#load Json file\n",
    "with open(file_path,'r') as file:\n",
    "    # file = file.read()\n",
    "    RESPONSE_JSON= json.load(file)"
   ]
  },
  {
   "cell_type": "code",
   "execution_count": 15,
   "metadata": {},
   "outputs": [
    {
     "data": {
      "text/plain": [
       "{'1': {'mcq': 'multiple choice question',\n",
       "  'options': {'a': 'choice here',\n",
       "   'b': 'choice here',\n",
       "   'c': 'choice here',\n",
       "   'd': 'choice here'},\n",
       "  'correct': 'correct answer'},\n",
       " '2': {'mcq': 'multiple choice question',\n",
       "  'options': {'a': 'choice here',\n",
       "   'b': 'choice here',\n",
       "   'c': 'choice here',\n",
       "   'd': 'choice here'},\n",
       "  'correct': 'correct answer'},\n",
       " '3': {'mcq': 'multiple choice question',\n",
       "  'options': {'a': 'choice here',\n",
       "   'b': 'choice here',\n",
       "   'c': 'choice here',\n",
       "   'd': 'choice here'},\n",
       "  'correct': 'correct answer'}}"
      ]
     },
     "execution_count": 15,
     "metadata": {},
     "output_type": "execute_result"
    }
   ],
   "source": [
    "RESPONSE_JSON"
   ]
  },
  {
   "cell_type": "code",
   "execution_count": 12,
   "metadata": {},
   "outputs": [
    {
     "name": "stdout",
     "output_type": "stream",
     "text": [
      "RESPONSE_JSON = {\n",
      "    \"1\": {\n",
      "        \"mcq\": \"multiple choice question\",\n",
      "        \"options\": {\n",
      "            \"a\": \"choice here\",\n",
      "            \"b\": \"choice here\",\n",
      "            \"c\": \"choice here\",\n",
      "            \"d\": \"choice here\",\n",
      "        },\n",
      "        \"correct\": \"correct answer\",\n",
      "    },\n",
      "    \"2\": {\n",
      "        \"mcq\": \"multiple choice question\",\n",
      "        \"options\": {\n",
      "            \"a\": \"choice here\",\n",
      "            \"b\": \"choice here\",\n",
      "            \"c\": \"choice here\",\n",
      "            \"d\": \"choice here\",\n",
      "        },\n",
      "        \"correct\": \"correct answer\",\n",
      "    },\n",
      "    \"3\": {\n",
      "        \"mcq\": \"multiple choice question\",\n",
      "        \"options\": {\n",
      "            \"a\": \"choice here\",\n",
      "            \"b\": \"choice here\",\n",
      "            \"c\": \"choice here\",\n",
      "            \"d\": \"choice here\",\n",
      "        },\n",
      "        \"correct\": \"correct answer\",\n",
      "    },\n",
      "}\n"
     ]
    }
   ],
   "source": [
    "print(file)"
   ]
  },
  {
   "cell_type": "code",
   "execution_count": null,
   "metadata": {},
   "outputs": [
    {
     "ename": "",
     "evalue": "",
     "output_type": "error",
     "traceback": [
      "\u001b[1;31mFailed to start the Kernel 'llmenv (Python 3.8.18)'. \n",
      "\u001b[1;31mView Jupyter <a href='command:jupyter.viewOutput'>log</a> for further details. EPERM: operation not permitted, open 'C:\\Users\\Admin\\AppData\\Local\\Temp\\kernel-v2-18212jtWxYBcwIui1.json'"
     ]
    }
   ],
   "source": [
    "import os\n",
    "# from src.mcqgenerator.constant import OUTPUT_FILE_NAME, OUTPUT_FOlder_NAME|"
   ]
  },
  {
   "cell_type": "code",
   "execution_count": null,
   "metadata": {},
   "outputs": [
    {
     "ename": "",
     "evalue": "",
     "output_type": "error",
     "traceback": [
      "\u001b[1;31mFailed to start the Kernel 'llmenv (Python 3.8.18)'. \n",
      "\u001b[1;31mView Jupyter <a href='command:jupyter.viewOutput'>log</a> for further details. EPERM: operation not permitted, open 'C:\\Users\\Admin\\AppData\\Local\\Temp\\kernel-v2-18212jtWxYBcwIui1.json'"
     ]
    }
   ],
   "source": [
    "os.getcwd()"
   ]
  },
  {
   "cell_type": "code",
   "execution_count": null,
   "metadata": {},
   "outputs": [
    {
     "ename": "",
     "evalue": "",
     "output_type": "error",
     "traceback": [
      "\u001b[1;31mFailed to start the Kernel 'llmenv (Python 3.8.18)'. \n",
      "\u001b[1;31mView Jupyter <a href='command:jupyter.viewOutput'>log</a> for further details. EPERM: operation not permitted, open 'C:\\Users\\Admin\\AppData\\Local\\Temp\\kernel-v2-18212z1M5GVlbr9MD.json'"
     ]
    }
   ],
   "source": [
    "from src.mcqgenerator.constant import OUTPUT_FILE_NAME,OUTPUT_FOlder_NAME"
   ]
  },
  {
   "cell_type": "code",
   "execution_count": null,
   "metadata": {},
   "outputs": [
    {
     "ename": "",
     "evalue": "",
     "output_type": "error",
     "traceback": [
      "\u001b[1;31mFailed to start the Kernel 'llmenv (Python 3.8.18)'. \n",
      "\u001b[1;31mView Jupyter <a href='command:jupyter.viewOutput'>log</a> for further details. EPERM: operation not permitted, open 'C:\\Users\\Admin\\AppData\\Local\\Temp\\kernel-v2-18212jtWxYBcwIui1.json'"
     ]
    }
   ],
   "source": [
    "from src.mcqgenerator.logger import logging"
   ]
  },
  {
   "cell_type": "code",
   "execution_count": null,
   "metadata": {},
   "outputs": [
    {
     "ename": "",
     "evalue": "",
     "output_type": "error",
     "traceback": [
      "\u001b[1;31mFailed to start the Kernel 'llmenv (Python 3.8.18)'. \n",
      "\u001b[1;31mView Jupyter <a href='command:jupyter.viewOutput'>log</a> for further details. EPERM: operation not permitted, open 'C:\\Users\\Admin\\AppData\\Local\\Temp\\kernel-v2-18212jtWxYBcwIui1.json'"
     ]
    }
   ],
   "source": [
    "file_path = os.getcwd()"
   ]
  },
  {
   "cell_type": "code",
   "execution_count": null,
   "metadata": {},
   "outputs": [
    {
     "ename": "",
     "evalue": "",
     "output_type": "error",
     "traceback": [
      "\u001b[1;31mFailed to start the Kernel 'llmenv (Python 3.8.18)'. \n",
      "\u001b[1;31mView Jupyter <a href='command:jupyter.viewOutput'>log</a> for further details. EPERM: operation not permitted, open 'C:\\Users\\Admin\\AppData\\Local\\Temp\\kernel-v2-18212jtWxYBcwIui1.json'"
     ]
    }
   ],
   "source": [
    "os.mkdir(file_path)"
   ]
  },
  {
   "cell_type": "code",
   "execution_count": null,
   "metadata": {},
   "outputs": [
    {
     "ename": "",
     "evalue": "",
     "output_type": "error",
     "traceback": [
      "\u001b[1;31mFailed to start the Kernel 'llmenv (Python 3.8.18)'. \n",
      "\u001b[1;31mView Jupyter <a href='command:jupyter.viewOutput'>log</a> for further details. EPERM: operation not permitted, open 'C:\\Users\\Admin\\AppData\\Local\\Temp\\kernel-v2-18212jtWxYBcwIui1.json'"
     ]
    }
   ],
   "source": [
    "file = os.path.join(file_path,OUTPUT_FOlder_NAME)"
   ]
  },
  {
   "cell_type": "code",
   "execution_count": null,
   "metadata": {},
   "outputs": [
    {
     "ename": "",
     "evalue": "",
     "output_type": "error",
     "traceback": [
      "\u001b[1;31mFailed to start the Kernel 'llmenv (Python 3.8.18)'. \n",
      "\u001b[1;31mView Jupyter <a href='command:jupyter.viewOutput'>log</a> for further details. EPERM: operation not permitted, open 'C:\\Users\\Admin\\AppData\\Local\\Temp\\kernel-v2-18212jtWxYBcwIui1.json'"
     ]
    }
   ],
   "source": []
  },
  {
   "cell_type": "code",
   "execution_count": null,
   "metadata": {},
   "outputs": [],
   "source": []
  }
 ],
 "metadata": {
  "kernelspec": {
   "display_name": "Python 3",
   "language": "python",
   "name": "python3"
  },
  "language_info": {
   "codemirror_mode": {
    "name": "ipython",
    "version": 3
   },
   "file_extension": ".py",
   "mimetype": "text/x-python",
   "name": "python",
   "nbconvert_exporter": "python",
   "pygments_lexer": "ipython3",
   "version": "3.8.18"
  }
 },
 "nbformat": 4,
 "nbformat_minor": 2
}
